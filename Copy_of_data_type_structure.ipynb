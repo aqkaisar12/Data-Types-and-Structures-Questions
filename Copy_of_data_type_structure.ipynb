{
  "nbformat": 4,
  "nbformat_minor": 0,
  "metadata": {
    "colab": {
      "provenance": []
    },
    "kernelspec": {
      "name": "python3",
      "display_name": "Python 3"
    },
    "language_info": {
      "name": "python"
    }
  },
  "cells": [
    {
      "cell_type": "markdown",
      "source": [
        "# *Data Types and Structures Questions*"
      ],
      "metadata": {
        "id": "UHSbGRwsmUKA"
      }
    },
    {
      "cell_type": "markdown",
      "source": [
        "1. What are data structures, and why are they important?\n",
        "  - Data structures are a way of organizing and storing data in a computer so that it can be accessed and modified efficiently. They are a fundamental part of computer science and are used in almost every program or software system.\n",
        "\n",
        "- They are important because they enable us to:\n",
        "\n",
        "- Organize data effectively: A well-chosen data structure can make it easier to store, manage, and retrieve information.\n",
        "\n",
        "- Improve efficiency: Different data structures are optimized for different operations. For example, a hash table is great for fast lookups, while a balanced binary search tree is good for sorted data.\n",
        "\n",
        "- Solve problems: Data structures are the building blocks for more complex algorithms. By choosing the right structure, you can design a more efficient and elegant solution to a problem.\n",
        "\n",
        "2. Explain the difference between mutable and immutable data types with examples.\n",
        "- Mutable data types are those that can be changed after they are created. This means you can modify their content without creating a new object.\n",
        "Examples: Lists, dictionaries, sets\n",
        "\n",
        "- Immutable data types are those that cannot be changed after they are created. If you want to modify an immutable object, you must create a new one.\n",
        "Examples: Integers, floats, strings, tuples.\n",
        "\n",
        "3. What are the main differences between lists and tuples in Python?\n",
        "\n",
        "> Mutability\n",
        "- List → Mutable (you can change, add, or remove elements).\n",
        "- my_list = [1, 2, 3]\n",
        "- my_list[0] = 10      # ✅ Works\n",
        "- my_list.append(4)    # ✅ Works\n",
        "- Tuple → Immutable (once created, you cannot modify elements).\n",
        "- my_tuple = (1, 2, 3)\n",
        "- my_tuple[0] = 10   # ❌ Error\n",
        "\n",
        "> Syntax\n",
        "- List → Created with square brackets [].\n",
        "- my_list = [1, 2, 3]\n",
        "- Tuple → Created with parentheses ()..\n",
        "my_tuple = (1, 2, 3)\n",
        "\n",
        "> Performance\n",
        "\n",
        "- List → Slower, because it needs extra memory for dynamic changes.\n",
        "- Tuple → Faster, since it’s fixed and optimized internally.\n",
        "\n",
        "> Use Cases\n",
        "\n",
        "- List → Use when you need a collection that can change. Example: storing user inputs, items in a cart, etc.\n",
        "\n",
        "- Tuple → Use when you need a fixed collection. Example: coordinates (x, y), days of the week, configuration values.\n",
        "\n",
        "> Methods Available\n",
        "\n",
        "- List → Has many built-in methods like .append(), .remove(), .sort().\n",
        "- Tuple → Has very few methods (.count(), .index() only).\n",
        "\n",
        ">Hashability\n",
        "\n",
        "- Tuple → Can be used as dictionary keys or in sets if it contains only immutable elements.\n",
        "- List → Cannot be used as dictionary keys or in sets.\n",
        "\n",
        "\n",
        "4.  Describe how dictionaries store data.\n",
        "- Dictionaries in Python store data as key-value pairs. Each unique key is associated with a specific value. They are implemented using a hash table, which allows for very fast lookups, insertions, and deletions.\n",
        "\n",
        "> How it works:\n",
        "- When you add a new key-value pair, the dictionary calculates a hash value (an integer) from the key.\n",
        "- This hash value is used to determine where to store the key-value pair in an underlying array.\n",
        "- When you want to retrieve a value, the dictionary re-calculates the hash of the key and uses it to quickly find the value's location.\n",
        "> Example:\n",
        ">- my_dict = {\"name\": \"Alice\", \"age\": 30, \"city\": \"New York\"}\n",
        ">-  \"name\" is the key, \"Alice\" is the value.\n",
        ">-  To access the value \"Alice\", you use its key:\n",
        ">-  print(my_dict[\"name\"]) # Output: Alice\n",
        "\n",
        "5. Why might you use a set instead of a list in Python?\n",
        "- You might use a set instead of a list for the following reasons:\n",
        ">- Uniqueness: Sets only store unique elements. If you add an element that already exists in the set, it will be ignored. This makes sets ideal for removing duplicate values from a collection.\n",
        ">- Fast Membership Testing: Checking if an item is present in a set ('item' in my_set) is, on average, much faster than doing the same check in a list. This is because sets are implemented using hash tables.\n",
        ">- Mathematical Operations: Sets support mathematical operations like union, intersection, difference, and symmetric difference, which are not directly available for lists.\n",
        "\n",
        "6. What is a string in Python, and how is it different from a list?\n",
        "- A string in Python is an immutable sequence of characters, used to represent text. It's a fundamental data type.\n",
        ">- The key differences between a string and a list are:\n",
        "Mutability: Strings are immutable, meaning their content cannot be changed after creation. Lists are mutable, so you can add, remove, or modify elements.\n",
        ">- Data Type: A string is a sequence of characters. A list is a sequence of objects, which can be of different data types (e.g., integers, strings, other lists).\n",
        ">- Syntax: Strings are defined using single or double quotes ('hello' or \"world\"). Lists are defined using square brackets ([1, 2, 'three']).\n",
        "\n",
        "7. How do tuples ensure data integrity in Python?\n",
        "- Tuples are immutable, which is the primary way they ensure data integrity. Since you cannot change, add, or remove elements from a tuple after it's created, you can be certain that the data within it remains consistent and unaltered. This makes tuples ideal for storing data that should not be changed, such as coordinate pairs, database records, or configuration settings.\n",
        "\n",
        "8. What is a hash table, and how does it relate to dictionaries in Python?\n",
        "- A hash table is a data structure that stores data in key-value pairs. It uses a hash function to compute an index into an array of buckets or slots, from which the desired value can be found.\n",
        ">-Python's dictionaries are implemented using a hash table. When you add a key-value pair to a dictionary, Python calculates the key's hash value to determine where to store the value. This allows for very fast lookup, insertion, and deletion of items.\n",
        "\n",
        "9. Can lists contain different data types in Python?\n",
        "- Yes, lists in Python can contain different data types. They are a heterogeneous collection. For example, a list can contain integers, floats, strings, and even other lists or tuples.\n",
        ">- Example: my_list = [10, 'hello', 3.14, [1, 2]]\n",
        "\n",
        "10. Explain why strings are immutable in Python.\n",
        "- Strings are immutable in Python for several reasons, primarily related to performance and security:\n",
        ">- Efficiency: When a string is created, Python can allocate a fixed amount of memory for it. Since it can't be changed, Python doesn't need to worry about reallocating memory if the string's size changes. This makes string operations like copying and hashing more efficient.\n",
        ">- Security and Thread Safety: Immutability makes strings thread-safe. Multiple threads can read from the same string object without the risk of one thread modifying it while another is using it.\n",
        ">- Use in Dictionaries and Sets: Because strings are immutable and hashable, they can be used as keys in dictionaries and as elements in sets. If strings were mutable, their hash value could change, breaking the integrity of these data structures.\n",
        "\n",
        "11. What advantages do dictionaries offer over lists for certain tasks?\n",
        "- Dictionaries are superior to lists for tasks that involve fast, non-sequential lookups based on a unique identifier (a key).\n",
        ">- Fast Lookups: Dictionaries provide nearly constant time complexity (O(1) on average) for retrieving a value based on its key, while lists require a linear search (O(n)) if you don't know the index.\n",
        ">- Readability: Using descriptive keys (e.g., 'name', 'age') makes the code more readable and self-documenting compared to accessing elements by an arbitrary index.\n",
        ">- Flexibility: Dictionaries can be used to model real-world objects with attributes, like a person's name, age, and city, making them a more natural choice for this type of data.\n",
        "\n",
        "12. Describe a scenario where using a tuple would be preferable over a list.\n",
        "- A tuple would be preferable over a list when you are storing a collection of items that should not be changed, and where the position of the data is meaningful.\n",
        ">- Example Scenario: Storing the coordinates of a point in a 2D plane.\n",
        "- A point is represented by a pair of (x,y) coordinates. These values should not be modified once the point is created. Using a tuple point = (10, 20) ensures that you cannot accidentally change the x or y value, thereby maintaining the integrity of the point's location. If you used a list point = [10, 20], you could accidentally change point[0] = 5, which could lead to subtle bugs.\n",
        "\n",
        "13. How do sets handle duplicate values in Python?\n",
        "- Sets are unordered collections of unique elements. When you add a duplicate value to a set, it is simply ignored. Sets automatically handle the de-duplication of elements.\n",
        ">-Example:\n",
        ">- Python\n",
        ">>- my_set = {1, 2, 3, 2, 1}\n",
        "print(my_set)\n",
        ">-Output: {1, 2, 3}\n",
        "14. How does the “in” keyword work differently for lists and dictionaries?\n",
        "- The in keyword checks for the presence of an element.\n",
        "> For Lists: element in my_list checks if the element is one of the values within the list. It performs a linear search, which can be slow for large lists (O(n)).\n",
        "> For Dictionaries: key in my_dict checks if the key exists in the dictionary. It does not check for values. This operation is very fast, with an average time complexity of O(1), because it uses the hash table to directly look up the key.\n",
        "\n",
        "15. Can you modify the elements of a tuple? Explain why or why not.\n",
        "- No, you cannot modify the elements of a tuple. This is because tuples are immutable. Once a tuple is created, its contents and structure are fixed. You cannot add, remove, or change any of the elements. This immutability is what guarantees data integrity and allows tuples to be used as dictionary keys.\n",
        "\n",
        "16. What is a nested dictionary, and give an example of its use case.\n",
        "- A nested dictionary is a dictionary where the values are themselves dictionaries. This allows you to create more complex, hierarchical data structures.\n",
        ">- Use Case: Storing information about multiple users, where each user has a set of attributes.\n",
        "\n",
        "17. Describe the time complexity of accessing elements in a dictionary.\n",
        "- The time complexity of accessing elements in a dictionary is, on average, O(1) (constant time).\n",
        ">- This is because dictionaries are implemented as hash tables. When you access an element using a key, Python uses a hash function to compute the memory address of the value. This process is extremely fast and does not depend on the size of the dictionary, making dictionaries highly efficient for lookups. In the worst-case scenario (due to hash collisions), the complexity can degrade to O(n), but this is very rare with Python's hash function.\n",
        "\n",
        "18. In what situations are lists preferred over dictionaries?\n",
        "- Lists are preferred over dictionaries in the following situations:\n",
        ">- Ordered Data: When the order of elements is important and needs to be maintained.\n",
        ">- Sequential Access: When you need to iterate through all elements in a specific order.\n",
        ">- Collections of Similar Items: When you have a simple, ordered collection of items that don't need a unique identifier.\n",
        ">- Mathematical Operations: When performing operations that rely on element position, such as finding the median or sorting.\n",
        "\n",
        "19. Why are dictionaries considered unordered, and how does that affect data retrieval?\n",
        "- Prior to Python 3.7, dictionaries were considered unordered because their internal hash table implementation did not preserve the insertion order of key-value pairs. The order in which items were stored was determined by the hash values, not the order of insertion.\n",
        ">- Since Python 3.7, dictionaries do maintain insertion order. However, the conceptual difference remains important. Dictionaries are not designed for ordered access based on index like lists. Their primary purpose is fast retrieval by key. Relying on insertion order in older versions could lead to unpredictable results. Even with the new ordered behavior, the fundamental retrieval method is by key, not by position.\n",
        "\n",
        "20. Explain the difference between a list and a dictionary in terms of data retrieval.\n",
        "- List Data Retrieval: Data is retrieved by its index (its position) in the sequence. For example, my_list[0] retrieves the first element. Accessing a specific element by its value requires a linear search (O(n)).\n",
        ">- Dictionary Data Retrieval: Data is retrieved by its key. For example, my_dict['name'] retrieves the value associated with the key 'name'. This is a constant-time operation on average (O(1)) due to the use of hash tables.\n"
      ],
      "metadata": {
        "id": "BirkFTfFmn1r"
      }
    },
    {
      "cell_type": "markdown",
      "source": [
        "# ***Practical Questions*** ***bold text***"
      ],
      "metadata": {
        "id": "puIQGRvjzvB4"
      }
    },
    {
      "cell_type": "code",
      "source": [
        "#1.Create a string with your name and print it.\n",
        "name = \"Kaisarahmed\"\n",
        "print(name)"
      ],
      "metadata": {
        "colab": {
          "base_uri": "https://localhost:8080/"
        },
        "id": "l-0nmDHe0iM3",
        "outputId": "ac86bc25-00c5-4cff-ef91-f9ffdd3b5586"
      },
      "execution_count": null,
      "outputs": [
        {
          "output_type": "stream",
          "name": "stdout",
          "text": [
            "Kaisarahmed\n"
          ]
        }
      ]
    },
    {
      "cell_type": "code",
      "source": [
        "#2.Find the length of the string \"Hello World\"\n",
        "my_string = \"Hello World\"\n",
        "len(my_string)"
      ],
      "metadata": {
        "colab": {
          "base_uri": "https://localhost:8080/"
        },
        "id": "t0Kx0vtI1Vza",
        "outputId": "204c4aa3-a67e-4f9c-9f60-3cfc49f407a3"
      },
      "execution_count": null,
      "outputs": [
        {
          "output_type": "execute_result",
          "data": {
            "text/plain": [
              "11"
            ]
          },
          "metadata": {},
          "execution_count": 2
        }
      ]
    },
    {
      "cell_type": "code",
      "source": [
        "#3.Slice the first 3 characters from the string \"Python Programming\"\n",
        "my_string = \"Python Programming\"\n",
        "sliced_string = my_string[0:3]\n",
        "print(sliced_string)"
      ],
      "metadata": {
        "colab": {
          "base_uri": "https://localhost:8080/"
        },
        "id": "FdDe1mpF1WbZ",
        "outputId": "083afa78-fc5d-4162-fd44-191c69d4e370"
      },
      "execution_count": null,
      "outputs": [
        {
          "output_type": "stream",
          "name": "stdout",
          "text": [
            "Pyt\n"
          ]
        }
      ]
    },
    {
      "cell_type": "code",
      "source": [
        "#4.Convert the string \"hello\" to uppercase\n",
        "my_str = \"hello\"\n",
        "uppercase_str = my_str.upper()\n",
        "print(uppercase_str)"
      ],
      "metadata": {
        "colab": {
          "base_uri": "https://localhost:8080/"
        },
        "id": "jUze0NEq1WkZ",
        "outputId": "a7010275-9077-436f-d947-c4296499ee4e"
      },
      "execution_count": null,
      "outputs": [
        {
          "output_type": "stream",
          "name": "stdout",
          "text": [
            "HELLO\n"
          ]
        }
      ]
    },
    {
      "cell_type": "code",
      "source": [
        "#5.Replace \"apple\" with \"orange\" in the string \"I like apple\"\n",
        "my_str = \"I like apple\"\n",
        "new_str = my_str.replace(\"apple\",\"orange\")\n",
        "print(new_str)"
      ],
      "metadata": {
        "colab": {
          "base_uri": "https://localhost:8080/"
        },
        "id": "YjkvvflY1WzI",
        "outputId": "17a82ad0-5d35-49c6-c5b0-ace7ad20841e"
      },
      "execution_count": null,
      "outputs": [
        {
          "output_type": "stream",
          "name": "stdout",
          "text": [
            "I like orange\n"
          ]
        }
      ]
    },
    {
      "cell_type": "code",
      "source": [
        "#6.Create a list with numbers 1 to 5 and print it\n",
        "my_list = [1, 2, 3, 4, 5]\n",
        "print(my_list)"
      ],
      "metadata": {
        "colab": {
          "base_uri": "https://localhost:8080/"
        },
        "id": "kmrrwKhc2UOD",
        "outputId": "772b60af-f34a-48dd-a45a-71cb7d77a3e7"
      },
      "execution_count": null,
      "outputs": [
        {
          "output_type": "stream",
          "name": "stdout",
          "text": [
            "[1, 2, 3, 4, 5]\n"
          ]
        }
      ]
    },
    {
      "cell_type": "code",
      "source": [
        "#7.Append the number 10 to the list [1, 2, 3, 4]\n",
        "my_list = [1, 2, 3, 4, 5]\n",
        "my_list.append(10)\n",
        "print(my_list)"
      ],
      "metadata": {
        "colab": {
          "base_uri": "https://localhost:8080/"
        },
        "id": "RLB7svKH2UZB",
        "outputId": "5ad0e2a2-0d5e-489f-cebe-046b582a14f6"
      },
      "execution_count": null,
      "outputs": [
        {
          "output_type": "stream",
          "name": "stdout",
          "text": [
            "[1, 2, 3, 4, 5, 10]\n"
          ]
        }
      ]
    },
    {
      "cell_type": "code",
      "source": [
        "#8.Remove the number 3 from the list [1, 2, 3, 4, 5]\n",
        "my_list = [1, 2, 3, 4, 5]\n",
        "my_list.remove(3)\n",
        "print(my_list)\n"
      ],
      "metadata": {
        "colab": {
          "base_uri": "https://localhost:8080/"
        },
        "id": "ImhWWFhw2Ung",
        "outputId": "f5c5c543-8bcf-4abf-dfe7-e9e8ce2e609d"
      },
      "execution_count": null,
      "outputs": [
        {
          "output_type": "stream",
          "name": "stdout",
          "text": [
            "[1, 2, 4, 5]\n"
          ]
        }
      ]
    },
    {
      "cell_type": "code",
      "source": [
        "#9.Access the second element in the list ['a', 'b', 'c', 'd']\n",
        "my_list = ['a', 'b', 'c', 'd']\n",
        "second_element = my_list[1]\n",
        "print(second_element)"
      ],
      "metadata": {
        "colab": {
          "base_uri": "https://localhost:8080/"
        },
        "id": "LTfJoJ3u39qc",
        "outputId": "7d1659c9-ebce-43e0-e7ed-149fcedafc0b"
      },
      "execution_count": null,
      "outputs": [
        {
          "output_type": "stream",
          "name": "stdout",
          "text": [
            "b\n"
          ]
        }
      ]
    },
    {
      "cell_type": "code",
      "source": [
        "#10.Reverse the list [10, 20, 30, 40, 50]\n",
        "my_list = [10, 20, 30, 40, 50]\n",
        "my_list.reverse()\n",
        "print(my_list)\n"
      ],
      "metadata": {
        "colab": {
          "base_uri": "https://localhost:8080/"
        },
        "id": "JWA3MVoD39yS",
        "outputId": "5b3f17a1-b8c3-4794-99bf-ff98d7c7a228"
      },
      "execution_count": null,
      "outputs": [
        {
          "output_type": "stream",
          "name": "stdout",
          "text": [
            "[50, 40, 30, 20, 10]\n"
          ]
        }
      ]
    },
    {
      "cell_type": "code",
      "source": [
        "#11.Create a tuple with the elements 100, 200, 300 and print it.\n",
        "tuple = (100, 200, 300)\n",
        "print(tuple)"
      ],
      "metadata": {
        "colab": {
          "base_uri": "https://localhost:8080/"
        },
        "id": "953V7nOm39-Z",
        "outputId": "77ca5aad-4abe-4134-9372-5f55653efd7b"
      },
      "execution_count": null,
      "outputs": [
        {
          "output_type": "stream",
          "name": "stdout",
          "text": [
            "(100, 200, 300)\n"
          ]
        }
      ]
    },
    {
      "cell_type": "code",
      "source": [
        "#12.Access the second-to-last element of the tuple ('red', 'green', 'blue', 'yellow').\n",
        "my_tuple = ('red', 'green', 'blue', 'yellow')\n",
        "element = my_tuple[-2]\n",
        "print(element)\n"
      ],
      "metadata": {
        "colab": {
          "base_uri": "https://localhost:8080/"
        },
        "id": "IEu9iFj25Alk",
        "outputId": "9beaff23-72d5-4732-867e-da31cca726d3"
      },
      "execution_count": null,
      "outputs": [
        {
          "output_type": "stream",
          "name": "stdout",
          "text": [
            "blue\n"
          ]
        }
      ]
    },
    {
      "cell_type": "code",
      "source": [
        "#13.Find the minimum number in the tuple (10, 20, 5, 15).\n",
        "my_tuple = (10, 20, 5, 15)\n",
        "minimum_num =min(my_tuple)\n",
        "print(minimum_num)"
      ],
      "metadata": {
        "colab": {
          "base_uri": "https://localhost:8080/"
        },
        "id": "auJqXrK65AuD",
        "outputId": "4cfdb262-cf60-42ac-bc6a-24e4b27d8974"
      },
      "execution_count": null,
      "outputs": [
        {
          "output_type": "stream",
          "name": "stdout",
          "text": [
            "5\n"
          ]
        }
      ]
    },
    {
      "cell_type": "code",
      "source": [
        "#14.Find the index of the element \"cat\" in the tuple ('dog', 'cat', 'rabbit').\n",
        "my_tuple = ('dog', 'cat', 'rabbit')\n",
        "index = my_tuple.index('cat')\n",
        "print(index)"
      ],
      "metadata": {
        "colab": {
          "base_uri": "https://localhost:8080/"
        },
        "id": "7icnhYrf5A9z",
        "outputId": "17203e80-c706-4f99-aa8c-06a50059f9bf"
      },
      "execution_count": null,
      "outputs": [
        {
          "output_type": "stream",
          "name": "stdout",
          "text": [
            "1\n"
          ]
        }
      ]
    },
    {
      "cell_type": "code",
      "source": [
        "#15.Create a tuple containing three different fruits and check if \"kiwi\" is in it.\n",
        "my_fruits = (\"apple\", \"banana\", \"orange\")\n",
        "is_kiwi_is_in_tuple = \"kiwi\" in my_fruits\n",
        "print(is_kiwi_is_in_tuple)\n"
      ],
      "metadata": {
        "colab": {
          "base_uri": "https://localhost:8080/"
        },
        "id": "nonB6NyA7gXk",
        "outputId": "8987524f-4176-46b5-8f7f-93204c571dea"
      },
      "execution_count": null,
      "outputs": [
        {
          "output_type": "stream",
          "name": "stdout",
          "text": [
            "False\n"
          ]
        }
      ]
    },
    {
      "cell_type": "code",
      "source": [
        "#16.Create a set with the elements 'a', 'b', 'c' and print it.\n",
        "my_set = {'a', 'b', 'c'}\n",
        "print(my_set)"
      ],
      "metadata": {
        "colab": {
          "base_uri": "https://localhost:8080/"
        },
        "id": "nFfxYek27gnK",
        "outputId": "6a0187f3-91a5-4c2a-ce89-617217b730cc"
      },
      "execution_count": null,
      "outputs": [
        {
          "output_type": "stream",
          "name": "stdout",
          "text": [
            "{'a', 'c', 'b'}\n"
          ]
        }
      ]
    },
    {
      "cell_type": "code",
      "source": [
        "#17.Clear all elements from the set {1, 2, 3, 4, 5}.\n",
        "my_elements = {1, 2, 3, 4, 5}\n",
        "my_elements.clear()\n",
        "print(my_elements)"
      ],
      "metadata": {
        "colab": {
          "base_uri": "https://localhost:8080/"
        },
        "id": "khjmVSEi7gs6",
        "outputId": "c9ace8fb-652d-418e-dbe7-dcfa8ecfd493"
      },
      "execution_count": null,
      "outputs": [
        {
          "output_type": "stream",
          "name": "stdout",
          "text": [
            "set()\n"
          ]
        }
      ]
    },
    {
      "cell_type": "code",
      "source": [
        "#18.Remove the element 4 from the set {1, 2, 3, 4}.\n",
        "my_elements = {1, 2, 3, 4, 5}\n",
        "my_elements.remove(4)\n",
        "print(my_elements)\n",
        "\n"
      ],
      "metadata": {
        "colab": {
          "base_uri": "https://localhost:8080/"
        },
        "id": "Seshr-2m7g0q",
        "outputId": "9e25ff96-5a8c-4ad3-dfd0-bee2a534ef46"
      },
      "execution_count": null,
      "outputs": [
        {
          "output_type": "stream",
          "name": "stdout",
          "text": [
            "{1, 2, 3, 5}\n"
          ]
        }
      ]
    },
    {
      "cell_type": "code",
      "source": [
        "#19.Find the union of two sets {1, 2, 3} and {3, 4, 5}.\n",
        "set1 = {1, 2, 3}\n",
        "set2 = {3, 4, 5}\n",
        "my_union = set1.union(set2)\n",
        "print(my_union)"
      ],
      "metadata": {
        "colab": {
          "base_uri": "https://localhost:8080/"
        },
        "id": "u0ZRPf877g76",
        "outputId": "db67281d-c048-4d68-f224-b04e741a4373"
      },
      "execution_count": null,
      "outputs": [
        {
          "output_type": "stream",
          "name": "stdout",
          "text": [
            "{1, 2, 3, 4, 5}\n"
          ]
        }
      ]
    },
    {
      "cell_type": "code",
      "source": [
        "#20.Find the intersection of two sets {1, 2, 3} and {2, 3, 4}.\n",
        "set1 = {1, 2, 3}\n",
        "set2 = {2, 3, 4}\n",
        "my_intersection = set1.intersection(set2)\n",
        "print(my_intersection)\n",
        "\n"
      ],
      "metadata": {
        "colab": {
          "base_uri": "https://localhost:8080/"
        },
        "id": "DP0cWYqh7snV",
        "outputId": "1d973b90-beeb-497f-f9c4-9b23a069368b"
      },
      "execution_count": null,
      "outputs": [
        {
          "output_type": "stream",
          "name": "stdout",
          "text": [
            "{2, 3}\n"
          ]
        }
      ]
    },
    {
      "cell_type": "code",
      "source": [
        "#21.Write a code to create a dictionary with the keys \"name\", \"age\", and \"city\", and print it.\n",
        "my_dictionary = {\"name\":\"Kaiserahmed\", \"age\":28, \"city\":\"Siruguppa\"}\n",
        "print(my_dictionary)"
      ],
      "metadata": {
        "colab": {
          "base_uri": "https://localhost:8080/"
        },
        "id": "l2__2Smf-guM",
        "outputId": "af5fedac-b0d1-4f76-c5f5-c29c70864c95"
      },
      "execution_count": null,
      "outputs": [
        {
          "output_type": "stream",
          "name": "stdout",
          "text": [
            "{'name': 'Kaiserahmed', 'age': 28, 'city': 'Siruguppa'}\n"
          ]
        }
      ]
    },
    {
      "cell_type": "code",
      "source": [
        "#22.Write a code to add a new key-value pair \"country\": \"USA\" to the dictionary {'name': 'John', 'age': 25}.\n",
        "my_dict = {'name':'John', 'age':25, }\n",
        "my_dict['country'] = 'USA'\n",
        "print(my_dict)"
      ],
      "metadata": {
        "colab": {
          "base_uri": "https://localhost:8080/"
        },
        "id": "MTa1iCin-hAa",
        "outputId": "a3737c0d-5576-4ccc-a687-9fa88453885a"
      },
      "execution_count": null,
      "outputs": [
        {
          "output_type": "stream",
          "name": "stdout",
          "text": [
            "{'name': 'John', 'age': 25, 'country': 'USA'}\n"
          ]
        }
      ]
    },
    {
      "cell_type": "code",
      "source": [
        "#23.Write a code to access the value associated with the key \"name\" in the dictionary {'name': 'Alice', 'age': 30}.\n",
        "my_dict = {'name': 'Alice', 'age': 30}\n",
        "name_value = my_dict['name']\n",
        "print(name_value)"
      ],
      "metadata": {
        "colab": {
          "base_uri": "https://localhost:8080/"
        },
        "id": "97PY91Ic-hQx",
        "outputId": "8e595d28-d805-4a74-941b-7f66e9a28f5b"
      },
      "execution_count": null,
      "outputs": [
        {
          "output_type": "stream",
          "name": "stdout",
          "text": [
            "Alice\n"
          ]
        }
      ]
    },
    {
      "cell_type": "code",
      "source": [
        "#24.Write a code to remove the key \"age\" from the dictionary {'name': 'Bob', 'age': 22, 'city': 'New York'}.\n",
        "my_dict = {'name': 'Bob', 'age': 22, 'city': 'New York'}\n",
        "del my_dict['age']\n",
        "print(my_dict)"
      ],
      "metadata": {
        "colab": {
          "base_uri": "https://localhost:8080/"
        },
        "id": "gl4W8l1U-hj7",
        "outputId": "079a8354-1814-4358-d519-ad6f7b4e550c"
      },
      "execution_count": null,
      "outputs": [
        {
          "output_type": "stream",
          "name": "stdout",
          "text": [
            "{'name': 'Bob', 'city': 'New York'}\n"
          ]
        }
      ]
    },
    {
      "cell_type": "code",
      "source": [
        "#25.Write a code to check if the key \"city\" exists in the dictionary {'name': 'Alice', 'city': 'Paris'}. Write a code to create a list, a tuple, and a dictionary, and print them all.\n",
        "my_dict = {'name': 'Alice', 'city': 'Paris'}\n",
        "if 'city' in my_dict :\n",
        "  print(\"The key 'city' exists in the dictionary.\")\n",
        "else :\n",
        "  print(\"The key 'city' dose not exists in the dictionary.\")"
      ],
      "metadata": {
        "colab": {
          "base_uri": "https://localhost:8080/"
        },
        "id": "pXgw9hXY-5Vi",
        "outputId": "1d643a85-aa5d-43ec-eecc-870e76b5753e"
      },
      "execution_count": null,
      "outputs": [
        {
          "output_type": "stream",
          "name": "stdout",
          "text": [
            "The key 'city' exists in the dictionary.\n"
          ]
        }
      ]
    },
    {
      "cell_type": "code",
      "source": [
        "#26.Write a code to create a list of 5 random numbers between 1 and 100, sort it in ascending order, and print the result. (replaced)\n",
        "import random\n",
        "\n",
        "random_numbers = [random.randint(1, 100) for _ in range(5)]\n",
        "random_numbers.sort()\n",
        "print(random_numbers)"
      ],
      "metadata": {
        "colab": {
          "base_uri": "https://localhost:8080/"
        },
        "id": "bAIYoG9m-5h7",
        "outputId": "951535e8-4451-44a2-8ee4-e166c99eeb23"
      },
      "execution_count": null,
      "outputs": [
        {
          "output_type": "stream",
          "name": "stdout",
          "text": [
            "[34, 40, 67, 72, 99]\n"
          ]
        }
      ]
    },
    {
      "cell_type": "code",
      "source": [
        "#27.Write a code to create a list with strings and print the element at the third index\n",
        "my_list = [\"apple\", \"banana\", \"cherry\", \"date\", \"elderberry\"]\n",
        "third_element = my_list[2] # Remember that list indices start at 0\n",
        "print(third_element)"
      ],
      "metadata": {
        "colab": {
          "base_uri": "https://localhost:8080/"
        },
        "id": "iEcM6-TE-5mB",
        "outputId": "816b92d8-ede9-4a94-f113-8938a69b1ae1"
      },
      "execution_count": null,
      "outputs": [
        {
          "output_type": "stream",
          "name": "stdout",
          "text": [
            "cherry\n"
          ]
        }
      ]
    },
    {
      "cell_type": "code",
      "source": [
        "#28.Write a code to combine two dictionaries into one and print the result.\n",
        "dict1 = {'a': 1, 'b': 2}\n",
        "dict2 = {'c': 3, 'd': 4}\n",
        "combined_dict = {**dict1, **dict2}\n",
        "print(combined_dict)"
      ],
      "metadata": {
        "colab": {
          "base_uri": "https://localhost:8080/"
        },
        "id": "D1pPYhkF-5p5",
        "outputId": "9b826be5-dcaf-4e88-f2bb-fed13d6a86c0"
      },
      "execution_count": null,
      "outputs": [
        {
          "output_type": "stream",
          "name": "stdout",
          "text": [
            "{'a': 1, 'b': 2, 'c': 3, 'd': 4}\n"
          ]
        }
      ]
    },
    {
      "cell_type": "code",
      "source": [
        "#29.Write a code to convert a list of strings into a set\n",
        "my_list = [\"apple\", \"banana\", \"cherry\", \"apple\", \"banana\"]\n",
        "my_set = set(my_list)\n",
        "print(my_set)"
      ],
      "metadata": {
        "colab": {
          "base_uri": "https://localhost:8080/"
        },
        "id": "_fqJJcxC_BdS",
        "outputId": "568b55ae-7201-441c-9b87-07a6736cb306"
      },
      "execution_count": null,
      "outputs": [
        {
          "output_type": "stream",
          "name": "stdout",
          "text": [
            "{'apple', 'cherry', 'banana'}\n"
          ]
        }
      ]
    },
    {
      "cell_type": "code",
      "source": [
        "#30.Write a code to check if the key \"city\" exists in the dictionary {'name': 'Alice', 'city': 'Paris'}. Write a code to create a list, a tuple, and a dictionary, and print them all.\n",
        "my_dict = {'name': 'Alice', 'city': 'Paris'}\n",
        "if 'city' in my_dict:\n",
        "    print(\"The key 'city' exists in the dictionary.\")\n",
        "else:\n",
        "    print(\"The key 'city' does not exist in the dictionary.\")\n",
        "\n",
        "    my_list = [1, 2, 3]\n",
        "my_tuple = (4, 5, 6)\n",
        "my_dict = {'a': 1, 'b': 2}\n",
        "\n",
        "print(\"List:\", my_list)\n",
        "print(\"Tuple:\", my_tuple)\n",
        "print(\"Dictionary:\", my_dict)"
      ],
      "metadata": {
        "colab": {
          "base_uri": "https://localhost:8080/"
        },
        "id": "_YGQNk9b_B20",
        "outputId": "a12c65fb-1e24-432a-9f5d-c087b9ea1607"
      },
      "execution_count": null,
      "outputs": [
        {
          "output_type": "stream",
          "name": "stdout",
          "text": [
            "The key 'city' exists in the dictionary.\n",
            "List: [1, 2, 3]\n",
            "Tuple: (4, 5, 6)\n",
            "Dictionary: {'a': 1, 'b': 2}\n"
          ]
        }
      ]
    }
  ]
}